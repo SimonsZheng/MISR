{
 "cells": [
  {
   "cell_type": "code",
   "execution_count": 75,
   "metadata": {},
   "outputs": [],
   "source": [
    "import numpy as np\n",
    "import matplotlib.pyplot as plt\n",
    "import seaborn as sns\n",
    "import torch\n",
    "import random"
   ]
  },
  {
   "cell_type": "code",
   "execution_count": 76,
   "metadata": {},
   "outputs": [],
   "source": [
    "def setup_seed(seed, cuda):\n",
    "    torch.manual_seed(seed)\n",
    "    if cuda:\n",
    "        torch.cuda.manual_seed_all(seed)\n",
    "        torch.backends.cudnn.deterministic = True\n",
    "    np.random.seed(seed)\n",
    "    random.seed(seed)"
   ]
  },
  {
   "cell_type": "code",
   "execution_count": 78,
   "metadata": {},
   "outputs": [
    {
     "data": {
      "text/plain": [
       "<Figure size 432x288 with 0 Axes>"
      ]
     },
     "metadata": {},
     "output_type": "display_data"
    }
   ],
   "source": [
    "mirl_dat = np.loadtxt('MSRL.csv', delimiter=',', skiprows=1)\n",
    "y = mirl_dat[:,-1]\n",
    "n = len(y)\n",
    "cuda_indicator = False\n",
    "setup_seed(123, cuda_indicator)\n",
    "for i in range(5):\n",
    "    x = mirl_dat[:,i]\n",
    "    np.random.shuffle(ind)\n",
    "    new_ind = ind[:800]\n",
    "    new_x = x[new_ind]\n",
    "    new_y = y[new_ind]\n",
    "    para = np.polyfit(new_x, new_y, 2)\n",
    "    x_min = np.min(new_x)\n",
    "    x_max = np.max(new_x)\n",
    "    curve_x = np.linspace(x_min, x_max, 200)\n",
    "    curve_y = para[0]*curve_x**2 + para[1]*curve_x + para[2]\n",
    "    plt.scatter(new_x, new_y, marker = 'o', c='',edgecolors = 'blue')\n",
    "    plt.plot(curve_x, curve_y, color = 'red')\n",
    "    plt.xlabel('DR'+str(i+1))\n",
    "    plt.ylabel('Y')\n",
    "    plt.savefig('MIDSRL_with_F('+str(i+1)+').pdf')\n",
    "    plt.clf()"
   ]
  },
  {
   "cell_type": "code",
   "execution_count": 79,
   "metadata": {},
   "outputs": [
    {
     "data": {
      "text/plain": [
       "<Figure size 432x288 with 0 Axes>"
      ]
     },
     "metadata": {},
     "output_type": "display_data"
    }
   ],
   "source": [
    "sir_dat = np.loadtxt('SIR.csv', delimiter=',', skiprows=1)\n",
    "y = sir_dat[:,-1]\n",
    "n = len(y)\n",
    "cuda_indicator = False\n",
    "setup_seed(123, cuda_indicator)\n",
    "for i in range(5):\n",
    "    x = sir_dat[:,i]\n",
    "    np.random.shuffle(ind)\n",
    "    new_ind = ind[:800]\n",
    "    new_x = x[new_ind]\n",
    "    new_y = y[new_ind]\n",
    "    para = np.polyfit(new_x, new_y, 2)\n",
    "    x_min = np.min(new_x)\n",
    "    x_max = np.max(new_x)\n",
    "    curve_x = np.linspace(x_min, x_max, 200)\n",
    "    curve_y = para[0]*curve_x**2 + para[1]*curve_x + para[2]\n",
    "    plt.scatter(new_x, new_y, marker = 'o', c='',edgecolors = 'blue')\n",
    "    plt.plot(curve_x, curve_y, color = 'red')\n",
    "    plt.xlabel('DR'+str(i+1))\n",
    "    plt.ylabel('Y')\n",
    "    plt.savefig('SIR_with_F('+str(i+1)+').pdf')\n",
    "    plt.clf()"
   ]
  },
  {
   "cell_type": "code",
   "execution_count": 80,
   "metadata": {},
   "outputs": [
    {
     "data": {
      "text/plain": [
       "<Figure size 432x288 with 0 Axes>"
      ]
     },
     "metadata": {},
     "output_type": "display_data"
    }
   ],
   "source": [
    "save_dat = np.loadtxt('SAVE.csv', delimiter=',', skiprows=1)\n",
    "y = save_dat[:,-1]\n",
    "n = len(y)\n",
    "cuda_indicator = False\n",
    "setup_seed(123, cuda_indicator)\n",
    "for i in range(5):\n",
    "    x = save_dat[:,i]\n",
    "    np.random.shuffle(ind)\n",
    "    new_ind = ind[:800]\n",
    "    new_x = x[new_ind]\n",
    "    new_y = y[new_ind]\n",
    "    para = np.polyfit(new_x, new_y, 2)\n",
    "    x_min = np.min(new_x)\n",
    "    x_max = np.max(new_x)\n",
    "    curve_x = np.linspace(x_min, x_max, 200)\n",
    "    curve_y = para[0]*curve_x**2 + para[1]*curve_x + para[2]\n",
    "    plt.scatter(new_x, new_y, marker = 'o', c='',edgecolors = 'blue')\n",
    "    plt.plot(curve_x, curve_y, color = 'red')\n",
    "    plt.xlabel('DR'+str(i+1))\n",
    "    plt.ylabel('Y')\n",
    "    plt.savefig('SAVE_with_F('+str(i+1)+').pdf')\n",
    "    plt.clf()"
   ]
  },
  {
   "cell_type": "code",
   "execution_count": 81,
   "metadata": {},
   "outputs": [
    {
     "data": {
      "text/plain": [
       "<Figure size 432x288 with 0 Axes>"
      ]
     },
     "metadata": {},
     "output_type": "display_data"
    }
   ],
   "source": [
    "gsir_dat = np.loadtxt('GSIR.csv', delimiter=',', skiprows=1)\n",
    "y = gsir_dat[:,-1]\n",
    "n = len(y)\n",
    "cuda_indicator = False\n",
    "setup_seed(123, cuda_indicator)\n",
    "for i in range(5):\n",
    "    x = gsir_dat[:,i]\n",
    "    np.random.shuffle(ind)\n",
    "    new_ind = ind[:800]\n",
    "    new_x = x[new_ind]\n",
    "    new_y = y[new_ind]\n",
    "    para = np.polyfit(new_x, new_y, 2)\n",
    "    x_min = np.min(new_x)\n",
    "    x_max = np.max(new_x)\n",
    "    curve_x = np.linspace(x_min, x_max, 200)\n",
    "    curve_y = para[0]*curve_x**2 + para[1]*curve_x + para[2]\n",
    "    plt.scatter(new_x, new_y, marker = 'o', c='',edgecolors = 'blue')\n",
    "    plt.plot(curve_x, curve_y, color = 'red')\n",
    "    plt.xlabel('DR'+str(i+1))\n",
    "    plt.ylabel('Y')\n",
    "    plt.savefig('GSIR_with_F('+str(i+1)+').pdf')\n",
    "    plt.clf()"
   ]
  },
  {
   "cell_type": "code",
   "execution_count": 82,
   "metadata": {},
   "outputs": [
    {
     "data": {
      "text/plain": [
       "<Figure size 432x288 with 0 Axes>"
      ]
     },
     "metadata": {},
     "output_type": "display_data"
    }
   ],
   "source": [
    "gsave_dat = np.loadtxt('GSAVE.csv', delimiter=',', skiprows=1)\n",
    "y = gsave_dat[:,-1]\n",
    "n = len(y)\n",
    "cuda_indicator = False\n",
    "setup_seed(123, cuda_indicator)\n",
    "for i in range(5):\n",
    "    x = gsave_dat[:,i]\n",
    "    np.random.shuffle(ind)\n",
    "    new_ind = ind[:800]\n",
    "    new_x = x[new_ind]\n",
    "    new_y = y[new_ind]\n",
    "    para = np.polyfit(new_x, new_y, 2)\n",
    "    x_min = np.min(new_x)\n",
    "    x_max = np.max(new_x)\n",
    "    curve_x = np.linspace(x_min, x_max, 200)\n",
    "    curve_y = para[0]*curve_x**2 + para[1]*curve_x + para[2]\n",
    "    plt.scatter(new_x, new_y, marker = 'o', c='',edgecolors = 'blue')\n",
    "    plt.plot(curve_x, curve_y, color = 'red')\n",
    "    plt.xlabel('DR'+str(i+1))\n",
    "    plt.ylabel('Y')\n",
    "    plt.savefig('GSAVE_with_F('+str(i+1)+').pdf')\n",
    "    plt.clf()"
   ]
  }
 ],
 "metadata": {
  "kernelspec": {
   "display_name": "Python 3",
   "language": "python",
   "name": "python3"
  },
  "language_info": {
   "codemirror_mode": {
    "name": "ipython",
    "version": 3
   },
   "file_extension": ".py",
   "mimetype": "text/x-python",
   "name": "python",
   "nbconvert_exporter": "python",
   "pygments_lexer": "ipython3",
   "version": "3.7.4"
  }
 },
 "nbformat": 4,
 "nbformat_minor": 2
}
