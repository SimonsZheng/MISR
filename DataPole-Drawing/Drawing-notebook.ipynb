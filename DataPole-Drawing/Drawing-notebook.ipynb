{
 "cells": [
  {
   "cell_type": "code",
   "execution_count": 1,
   "metadata": {},
   "outputs": [],
   "source": [
    "import numpy as np\n",
    "import matplotlib.pyplot as plt\n",
    "import seaborn as sns\n",
    "import torch\n",
    "import random"
   ]
  },
  {
   "cell_type": "code",
   "execution_count": 2,
   "metadata": {},
   "outputs": [],
   "source": [
    "def setup_seed(seed, cuda):\n",
    "    torch.manual_seed(seed)\n",
    "    if cuda:\n",
    "        torch.cuda.manual_seed_all(seed)\n",
    "        torch.backends.cudnn.deterministic = True\n",
    "    np.random.seed(seed)\n",
    "    random.seed(seed)"
   ]
  },
  {
   "cell_type": "code",
   "execution_count": 3,
   "metadata": {},
   "outputs": [
    {
     "data": {
      "text/plain": [
       "<Figure size 432x288 with 0 Axes>"
      ]
     },
     "metadata": {},
     "output_type": "display_data"
    }
   ],
   "source": [
    "mirl_dat = np.loadtxt('MSRL.csv', delimiter=',', skiprows=1)\n",
    "y = mirl_dat[:,-1]\n",
    "n = len(y)\n",
    "cuda_indicator = False\n",
    "setup_seed(123, cuda_indicator)\n",
    "for i in range(4):\n",
    "    for j in range(i+1,5):\n",
    "        ind = np.arange(n)\n",
    "        np.random.shuffle(ind)\n",
    "        edr1 = mirl_dat[ind[:400],i]\n",
    "        edr2 = mirl_dat[ind[:400],j]\n",
    "        p_x1 = edr1[y[ind[:400]]>=50]\n",
    "        p_x2 = edr2[y[ind[:400]]>=50]\n",
    "        n_x1 = edr1[y[ind[:400]]<50]\n",
    "        n_x2 = edr2[y[ind[:400]]<50]\n",
    "        plt.scatter(p_x1, p_x2, marker = 'o', c='',edgecolors = 'blue')\n",
    "        plt.scatter(n_x1, n_x2, marker = '^', c='',edgecolors = 'red')\n",
    "        plt.xlabel('DR'+str(i+1))\n",
    "        plt.ylabel('DR'+str(j+1))\n",
    "        plt.savefig('MIDSRL_with_F('+str(i+1)+')_F('+str(j+1)+').pdf')\n",
    "        plt.clf()"
   ]
  },
  {
   "cell_type": "code",
   "execution_count": 65,
   "metadata": {},
   "outputs": [
    {
     "data": {
      "text/plain": [
       "<Figure size 432x288 with 0 Axes>"
      ]
     },
     "metadata": {},
     "output_type": "display_data"
    }
   ],
   "source": [
    "sir_dat = np.loadtxt('SIR.csv', delimiter=',', skiprows=1)\n",
    "y = sir_dat[:,-1]\n",
    "n = len(y)\n",
    "cuda_indicator = False\n",
    "setup_seed(123, cuda_indicator)\n",
    "for i in range(4):\n",
    "    for j in range(i+1,5):\n",
    "        ind = np.arange(n)\n",
    "        np.random.shuffle(ind)\n",
    "        edr1 = sir_dat[ind[:400],i]\n",
    "        edr2 = sir_dat[ind[:400],j]\n",
    "        p_x1 = edr1[y[ind[:400]]>=50]\n",
    "        p_x2 = edr2[y[ind[:400]]>=50]\n",
    "        n_x1 = edr1[y[ind[:400]]<50]\n",
    "        n_x2 = edr2[y[ind[:400]]<50]\n",
    "        plt.scatter(p_x1, p_x2, marker = 'o', c='',edgecolors = 'blue')\n",
    "        plt.scatter(n_x1, n_x2, marker = '^', c='',edgecolors = 'red')\n",
    "        plt.xlabel('DR'+str(i+1))\n",
    "        plt.ylabel('DR'+str(j+1))\n",
    "        plt.savefig('SIR_with_F('+str(i+1)+')_F('+str(j+1)+').pdf')\n",
    "        plt.clf()"
   ]
  },
  {
   "cell_type": "code",
   "execution_count": 66,
   "metadata": {},
   "outputs": [
    {
     "data": {
      "text/plain": [
       "<Figure size 432x288 with 0 Axes>"
      ]
     },
     "metadata": {},
     "output_type": "display_data"
    }
   ],
   "source": [
    "gsir_dat = np.loadtxt('GSIR.csv', delimiter=',', skiprows=1)\n",
    "y = sir_dat[:,-1]\n",
    "n = len(y)\n",
    "cuda_indicator = False\n",
    "setup_seed(123, cuda_indicator)\n",
    "for i in range(4):\n",
    "    for j in range(i+1,5):\n",
    "        ind = np.arange(n)\n",
    "        np.random.shuffle(ind)\n",
    "        edr1 = gsir_dat[ind[:400],i]\n",
    "        edr2 = gsir_dat[ind[:400],j]\n",
    "        p_x1 = edr1[y[ind[:400]]>=50]\n",
    "        p_x2 = edr2[y[ind[:400]]>=50]\n",
    "        n_x1 = edr1[y[ind[:400]]<50]\n",
    "        n_x2 = edr2[y[ind[:400]]<50]\n",
    "        plt.scatter(p_x1, p_x2, marker = 'o', c='',edgecolors = 'blue')\n",
    "        plt.scatter(n_x1, n_x2, marker = '^', c='',edgecolors = 'red')\n",
    "        plt.xlabel('DR'+str(i+1))\n",
    "        plt.ylabel('DR'+str(j+1))\n",
    "        plt.savefig('GSIR_with_F('+str(i+1)+')_F('+str(j+1)+').pdf')\n",
    "        plt.clf()"
   ]
  },
  {
   "cell_type": "code",
   "execution_count": 67,
   "metadata": {},
   "outputs": [
    {
     "data": {
      "text/plain": [
       "<Figure size 432x288 with 0 Axes>"
      ]
     },
     "metadata": {},
     "output_type": "display_data"
    }
   ],
   "source": [
    "save_dat = np.loadtxt('SAVE.csv', delimiter=',', skiprows=1)\n",
    "y = save_dat[:,-1]\n",
    "n = len(y)\n",
    "cuda_indicator = False\n",
    "setup_seed(123, cuda_indicator)\n",
    "for i in range(4):\n",
    "    for j in range(i+1,5):\n",
    "        ind = np.arange(n)\n",
    "        np.random.shuffle(ind)\n",
    "        edr1 = save_dat[ind[:400],i]\n",
    "        edr2 = save_dat[ind[:400],j]\n",
    "        p_x1 = edr1[y[ind[:400]]>=50]\n",
    "        p_x2 = edr2[y[ind[:400]]>=50]\n",
    "        n_x1 = edr1[y[ind[:400]]<50]\n",
    "        n_x2 = edr2[y[ind[:400]]<50]\n",
    "        plt.scatter(p_x1, p_x2, marker = 'o', c='',edgecolors = 'blue')\n",
    "        plt.scatter(n_x1, n_x2, marker = '^', c='',edgecolors = 'red')\n",
    "        plt.xlabel('DR'+str(i+1))\n",
    "        plt.ylabel('DR'+str(j+1))\n",
    "        plt.savefig('SAVE_with_F('+str(i+1)+')_F('+str(j+1)+').pdf')\n",
    "        plt.clf()"
   ]
  },
  {
   "cell_type": "code",
   "execution_count": 68,
   "metadata": {},
   "outputs": [
    {
     "data": {
      "text/plain": [
       "<Figure size 432x288 with 0 Axes>"
      ]
     },
     "metadata": {},
     "output_type": "display_data"
    }
   ],
   "source": [
    "gsave_dat = np.loadtxt('GSAVE.csv', delimiter=',', skiprows=1)\n",
    "y = save_dat[:,-1]\n",
    "n = len(y)\n",
    "cuda_indicator = False\n",
    "setup_seed(123, cuda_indicator)\n",
    "for i in range(4):\n",
    "    for j in range(i+1,5):\n",
    "        ind = np.arange(n)\n",
    "        np.random.shuffle(ind)\n",
    "        edr1 = gsave_dat[ind[:400],i]\n",
    "        edr2 = gsave_dat[ind[:400],j]\n",
    "        p_x1 = edr1[y[ind[:400]]>=50]\n",
    "        p_x2 = edr2[y[ind[:400]]>=50]\n",
    "        n_x1 = edr1[y[ind[:400]]<50]\n",
    "        n_x2 = edr2[y[ind[:400]]<50]\n",
    "        plt.scatter(p_x1, p_x2, marker = 'o', c='',edgecolors = 'blue')\n",
    "        plt.scatter(n_x1, n_x2, marker = '^', c='',edgecolors = 'red')\n",
    "        plt.xlabel('DR'+str(i+1))\n",
    "        plt.ylabel('DR'+str(j+1))\n",
    "        plt.savefig('GSAVE_with_F('+str(i+1)+')_F('+str(j+1)+').pdf')\n",
    "        plt.clf()"
   ]
  }
 ],
 "metadata": {
  "kernelspec": {
   "display_name": "Python 3",
   "language": "python",
   "name": "python3"
  },
  "language_info": {
   "codemirror_mode": {
    "name": "ipython",
    "version": 3
   },
   "file_extension": ".py",
   "mimetype": "text/x-python",
   "name": "python",
   "nbconvert_exporter": "python",
   "pygments_lexer": "ipython3",
   "version": "3.7.4"
  }
 },
 "nbformat": 4,
 "nbformat_minor": 2
}
